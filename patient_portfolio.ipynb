{
 "cells": [
  {
   "cell_type": "markdown",
   "id": "6106c896",
   "metadata": {},
   "source": [
    "# 🏥 Hospital Patient Data Analysis\n",
    "This notebook analyzes hospital patient records to extract insights that could be valuable for hospital management and planning.\n",
    "\n",
    "**Objectives:**\n",
    "- Determine the average length of stay by department\n",
    "- Identify the most common procedures in each department\n",
    "- Examine the distribution of patients by diagnosis\n",
    "\n",
    "Let's begin with the data analysis."
   ]
  },
  {
   "cell_type": "code",
   "execution_count": 9,
   "id": "c62af58b",
   "metadata": {},
   "outputs": [],
   "source": [
    "import pandas as pd\n",
    "import numpy as np\n",
    "import matplotlib.pyplot as plt\n",
    "import seaborn as sns "
   ]
  },
  {
   "cell_type": "markdown",
   "id": "7f810067",
   "metadata": {},
   "source": [
    "## 📌 1. Average Length of Stay by Department"
   ]
  },
  {
   "cell_type": "code",
   "execution_count": 10,
   "id": "8fa3e4a7",
   "metadata": {},
   "outputs": [
    {
     "data": {
      "application/vnd.microsoft.datawrangler.viewer.v0+json": {
       "columns": [
        {
         "name": "index",
         "rawType": "int64",
         "type": "integer"
        },
        {
         "name": "Patient_ID",
         "rawType": "int64",
         "type": "integer"
        },
        {
         "name": "Age",
         "rawType": "int64",
         "type": "integer"
        },
        {
         "name": "Gender",
         "rawType": "object",
         "type": "string"
        },
        {
         "name": "Diagnosis",
         "rawType": "object",
         "type": "string"
        },
        {
         "name": "Length_of_Stay",
         "rawType": "int64",
         "type": "integer"
        },
        {
         "name": "Procedure",
         "rawType": "object",
         "type": "string"
        },
        {
         "name": "Department",
         "rawType": "object",
         "type": "string"
        },
        {
         "name": "Total_Bill",
         "rawType": "int64",
         "type": "integer"
        },
        {
         "name": "Insurance_Coverage (%)",
         "rawType": "int64",
         "type": "integer"
        },
        {
         "name": "Readmitted (Yes/No)",
         "rawType": "object",
         "type": "string"
        }
       ],
       "ref": "ae4033c0-cac5-4920-b62e-8f385b4baf90",
       "rows": [
        [
         "0",
         "1",
         "69",
         "Male",
         "Cancer",
         "9",
         "Imaging",
         "General",
         "16368",
         "70",
         "No"
        ],
        [
         "1",
         "2",
         "32",
         "Male",
         "Heart Disease",
         "13",
         "Medication",
         "Endocrinology",
         "122360",
         "67",
         "No"
        ],
        [
         "2",
         "3",
         "89",
         "Female",
         "Cancer",
         "2",
         "Imaging",
         "Oncology",
         "122755",
         "52",
         "Yes"
        ],
        [
         "3",
         "4",
         "78",
         "Male",
         "Hypertension",
         "4",
         "Medication",
         "Oncology",
         "66985",
         "91",
         "No"
        ],
        [
         "4",
         "5",
         "38",
         "Female",
         "Cancer",
         "6",
         "Surgery",
         "Pulmonology",
         "60069",
         "88",
         "Yes"
        ],
        [
         "5",
         "6",
         "41",
         "Male",
         "Cancer",
         "2",
         "Blood Work",
         "General",
         "62326",
         "90",
         "No"
        ],
        [
         "6",
         "7",
         "20",
         "Female",
         "Diabetes",
         "8",
         "Medication",
         "Cardiology",
         "118737",
         "98",
         "No"
        ],
        [
         "7",
         "8",
         "39",
         "Male",
         "Diabetes",
         "8",
         "Imaging",
         "General",
         "60861",
         "60",
         "No"
        ],
        [
         "8",
         "9",
         "70",
         "Female",
         "Diabetes",
         "1",
         "Surgery",
         "General",
         "85897",
         "88",
         "No"
        ],
        [
         "9",
         "10",
         "19",
         "Male",
         "Cancer",
         "12",
         "Medication",
         "Pulmonology",
         "137118",
         "73",
         "No"
        ],
        [
         "10",
         "11",
         "47",
         "Female",
         "Asthma",
         "3",
         "Therapy",
         "Cardiology",
         "78577",
         "95",
         "No"
        ],
        [
         "11",
         "12",
         "55",
         "Female",
         "Cancer",
         "10",
         "Blood Work",
         "Pulmonology",
         "19078",
         "68",
         "No"
        ],
        [
         "12",
         "13",
         "19",
         "Male",
         "Asthma",
         "9",
         "Medication",
         "Cardiology",
         "72768",
         "53",
         "Yes"
        ],
        [
         "13",
         "14",
         "81",
         "Male",
         "Asthma",
         "5",
         "Surgery",
         "Endocrinology",
         "61047",
         "75",
         "No"
        ],
        [
         "14",
         "15",
         "77",
         "Female",
         "Diabetes",
         "6",
         "Therapy",
         "Cardiology",
         "81626",
         "87",
         "Yes"
        ],
        [
         "15",
         "16",
         "38",
         "Male",
         "Heart Disease",
         "4",
         "Surgery",
         "Pulmonology",
         "67660",
         "91",
         "No"
        ],
        [
         "16",
         "17",
         "50",
         "Female",
         "Hypertension",
         "10",
         "Surgery",
         "General",
         "142997",
         "81",
         "No"
        ],
        [
         "17",
         "18",
         "75",
         "Male",
         "Diabetes",
         "2",
         "Therapy",
         "Cardiology",
         "127832",
         "88",
         "No"
        ],
        [
         "18",
         "19",
         "39",
         "Female",
         "Diabetes",
         "11",
         "Surgery",
         "Cardiology",
         "140406",
         "94",
         "Yes"
        ],
        [
         "19",
         "20",
         "66",
         "Female",
         "Heart Disease",
         "8",
         "Therapy",
         "Oncology",
         "135150",
         "95",
         "Yes"
        ],
        [
         "20",
         "21",
         "76",
         "Female",
         "Hypertension",
         "11",
         "Medication",
         "General",
         "43320",
         "85",
         "No"
        ],
        [
         "21",
         "22",
         "59",
         "Female",
         "Cancer",
         "13",
         "Therapy",
         "Endocrinology",
         "74881",
         "89",
         "Yes"
        ],
        [
         "22",
         "23",
         "77",
         "Female",
         "Cancer",
         "6",
         "Therapy",
         "Pulmonology",
         "100827",
         "86",
         "Yes"
        ],
        [
         "23",
         "24",
         "32",
         "Female",
         "Diabetes",
         "5",
         "Blood Work",
         "Endocrinology",
         "112215",
         "82",
         "Yes"
        ],
        [
         "24",
         "25",
         "79",
         "Male",
         "Hypertension",
         "9",
         "Therapy",
         "General",
         "144461",
         "85",
         "No"
        ],
        [
         "25",
         "26",
         "79",
         "Male",
         "Diabetes",
         "1",
         "Therapy",
         "Cardiology",
         "71550",
         "52",
         "No"
        ],
        [
         "26",
         "27",
         "64",
         "Male",
         "Asthma",
         "5",
         "Medication",
         "Cardiology",
         "34826",
         "58",
         "No"
        ],
        [
         "27",
         "28",
         "79",
         "Female",
         "Diabetes",
         "6",
         "Blood Work",
         "General",
         "110734",
         "57",
         "Yes"
        ],
        [
         "28",
         "29",
         "68",
         "Female",
         "Diabetes",
         "5",
         "Imaging",
         "Cardiology",
         "108511",
         "82",
         "No"
        ],
        [
         "29",
         "30",
         "72",
         "Female",
         "Cancer",
         "6",
         "Medication",
         "Cardiology",
         "21653",
         "55",
         "No"
        ],
        [
         "30",
         "31",
         "81",
         "Female",
         "Cancer",
         "6",
         "Medication",
         "Cardiology",
         "91941",
         "90",
         "No"
        ],
        [
         "31",
         "32",
         "20",
         "Male",
         "Cancer",
         "7",
         "Imaging",
         "Pulmonology",
         "43662",
         "88",
         "Yes"
        ],
        [
         "32",
         "33",
         "68",
         "Male",
         "Asthma",
         "4",
         "Therapy",
         "Pulmonology",
         "108818",
         "53",
         "Yes"
        ],
        [
         "33",
         "34",
         "24",
         "Female",
         "Cancer",
         "14",
         "Surgery",
         "Oncology",
         "105081",
         "62",
         "Yes"
        ],
        [
         "34",
         "35",
         "38",
         "Male",
         "Hypertension",
         "11",
         "Blood Work",
         "Endocrinology",
         "46877",
         "98",
         "No"
        ],
        [
         "35",
         "36",
         "56",
         "Male",
         "Heart Disease",
         "14",
         "Surgery",
         "General",
         "121562",
         "51",
         "No"
        ],
        [
         "36",
         "37",
         "35",
         "Female",
         "Hypertension",
         "14",
         "Imaging",
         "General",
         "82715",
         "54",
         "Yes"
        ],
        [
         "37",
         "38",
         "21",
         "Male",
         "Hypertension",
         "14",
         "Medication",
         "General",
         "120091",
         "93",
         "Yes"
        ],
        [
         "38",
         "39",
         "77",
         "Female",
         "Cancer",
         "8",
         "Medication",
         "Oncology",
         "142632",
         "76",
         "Yes"
        ],
        [
         "39",
         "40",
         "31",
         "Male",
         "Heart Disease",
         "7",
         "Blood Work",
         "Pulmonology",
         "89148",
         "81",
         "No"
        ],
        [
         "40",
         "41",
         "26",
         "Female",
         "Heart Disease",
         "9",
         "Medication",
         "Oncology",
         "93186",
         "70",
         "Yes"
        ],
        [
         "41",
         "42",
         "70",
         "Female",
         "Heart Disease",
         "7",
         "Medication",
         "General",
         "133629",
         "57",
         "No"
        ],
        [
         "42",
         "43",
         "19",
         "Female",
         "Asthma",
         "3",
         "Blood Work",
         "Endocrinology",
         "80316",
         "87",
         "No"
        ],
        [
         "43",
         "44",
         "77",
         "Female",
         "Cancer",
         "3",
         "Blood Work",
         "Cardiology",
         "38380",
         "57",
         "No"
        ],
        [
         "44",
         "45",
         "88",
         "Male",
         "Heart Disease",
         "8",
         "Imaging",
         "Pulmonology",
         "120198",
         "99",
         "Yes"
        ],
        [
         "45",
         "46",
         "61",
         "Female",
         "Asthma",
         "5",
         "Medication",
         "Pulmonology",
         "12356",
         "52",
         "Yes"
        ],
        [
         "46",
         "47",
         "25",
         "Female",
         "Diabetes",
         "4",
         "Medication",
         "Oncology",
         "80326",
         "93",
         "No"
        ],
        [
         "47",
         "48",
         "64",
         "Female",
         "Diabetes",
         "8",
         "Imaging",
         "Pulmonology",
         "102447",
         "52",
         "No"
        ],
        [
         "48",
         "49",
         "52",
         "Male",
         "Asthma",
         "6",
         "Therapy",
         "General",
         "124994",
         "71",
         "No"
        ],
        [
         "49",
         "50",
         "53",
         "Female",
         "Asthma",
         "2",
         "Therapy",
         "General",
         "30049",
         "55",
         "No"
        ]
       ],
       "shape": {
        "columns": 10,
        "rows": 300
       }
      },
      "text/html": [
       "<div>\n",
       "<style scoped>\n",
       "    .dataframe tbody tr th:only-of-type {\n",
       "        vertical-align: middle;\n",
       "    }\n",
       "\n",
       "    .dataframe tbody tr th {\n",
       "        vertical-align: top;\n",
       "    }\n",
       "\n",
       "    .dataframe thead th {\n",
       "        text-align: right;\n",
       "    }\n",
       "</style>\n",
       "<table border=\"1\" class=\"dataframe\">\n",
       "  <thead>\n",
       "    <tr style=\"text-align: right;\">\n",
       "      <th></th>\n",
       "      <th>Patient_ID</th>\n",
       "      <th>Age</th>\n",
       "      <th>Gender</th>\n",
       "      <th>Diagnosis</th>\n",
       "      <th>Length_of_Stay</th>\n",
       "      <th>Procedure</th>\n",
       "      <th>Department</th>\n",
       "      <th>Total_Bill</th>\n",
       "      <th>Insurance_Coverage (%)</th>\n",
       "      <th>Readmitted (Yes/No)</th>\n",
       "    </tr>\n",
       "  </thead>\n",
       "  <tbody>\n",
       "    <tr>\n",
       "      <th>0</th>\n",
       "      <td>1</td>\n",
       "      <td>69</td>\n",
       "      <td>Male</td>\n",
       "      <td>Cancer</td>\n",
       "      <td>9</td>\n",
       "      <td>Imaging</td>\n",
       "      <td>General</td>\n",
       "      <td>16368</td>\n",
       "      <td>70</td>\n",
       "      <td>No</td>\n",
       "    </tr>\n",
       "    <tr>\n",
       "      <th>1</th>\n",
       "      <td>2</td>\n",
       "      <td>32</td>\n",
       "      <td>Male</td>\n",
       "      <td>Heart Disease</td>\n",
       "      <td>13</td>\n",
       "      <td>Medication</td>\n",
       "      <td>Endocrinology</td>\n",
       "      <td>122360</td>\n",
       "      <td>67</td>\n",
       "      <td>No</td>\n",
       "    </tr>\n",
       "    <tr>\n",
       "      <th>2</th>\n",
       "      <td>3</td>\n",
       "      <td>89</td>\n",
       "      <td>Female</td>\n",
       "      <td>Cancer</td>\n",
       "      <td>2</td>\n",
       "      <td>Imaging</td>\n",
       "      <td>Oncology</td>\n",
       "      <td>122755</td>\n",
       "      <td>52</td>\n",
       "      <td>Yes</td>\n",
       "    </tr>\n",
       "    <tr>\n",
       "      <th>3</th>\n",
       "      <td>4</td>\n",
       "      <td>78</td>\n",
       "      <td>Male</td>\n",
       "      <td>Hypertension</td>\n",
       "      <td>4</td>\n",
       "      <td>Medication</td>\n",
       "      <td>Oncology</td>\n",
       "      <td>66985</td>\n",
       "      <td>91</td>\n",
       "      <td>No</td>\n",
       "    </tr>\n",
       "    <tr>\n",
       "      <th>4</th>\n",
       "      <td>5</td>\n",
       "      <td>38</td>\n",
       "      <td>Female</td>\n",
       "      <td>Cancer</td>\n",
       "      <td>6</td>\n",
       "      <td>Surgery</td>\n",
       "      <td>Pulmonology</td>\n",
       "      <td>60069</td>\n",
       "      <td>88</td>\n",
       "      <td>Yes</td>\n",
       "    </tr>\n",
       "    <tr>\n",
       "      <th>...</th>\n",
       "      <td>...</td>\n",
       "      <td>...</td>\n",
       "      <td>...</td>\n",
       "      <td>...</td>\n",
       "      <td>...</td>\n",
       "      <td>...</td>\n",
       "      <td>...</td>\n",
       "      <td>...</td>\n",
       "      <td>...</td>\n",
       "      <td>...</td>\n",
       "    </tr>\n",
       "    <tr>\n",
       "      <th>295</th>\n",
       "      <td>296</td>\n",
       "      <td>34</td>\n",
       "      <td>Male</td>\n",
       "      <td>Heart Disease</td>\n",
       "      <td>1</td>\n",
       "      <td>Therapy</td>\n",
       "      <td>Endocrinology</td>\n",
       "      <td>67993</td>\n",
       "      <td>98</td>\n",
       "      <td>No</td>\n",
       "    </tr>\n",
       "    <tr>\n",
       "      <th>296</th>\n",
       "      <td>297</td>\n",
       "      <td>50</td>\n",
       "      <td>Female</td>\n",
       "      <td>Hypertension</td>\n",
       "      <td>6</td>\n",
       "      <td>Surgery</td>\n",
       "      <td>Endocrinology</td>\n",
       "      <td>17421</td>\n",
       "      <td>90</td>\n",
       "      <td>Yes</td>\n",
       "    </tr>\n",
       "    <tr>\n",
       "      <th>297</th>\n",
       "      <td>298</td>\n",
       "      <td>26</td>\n",
       "      <td>Male</td>\n",
       "      <td>Heart Disease</td>\n",
       "      <td>7</td>\n",
       "      <td>Surgery</td>\n",
       "      <td>Pulmonology</td>\n",
       "      <td>27727</td>\n",
       "      <td>66</td>\n",
       "      <td>No</td>\n",
       "    </tr>\n",
       "    <tr>\n",
       "      <th>298</th>\n",
       "      <td>299</td>\n",
       "      <td>60</td>\n",
       "      <td>Female</td>\n",
       "      <td>Diabetes</td>\n",
       "      <td>3</td>\n",
       "      <td>Therapy</td>\n",
       "      <td>Cardiology</td>\n",
       "      <td>122418</td>\n",
       "      <td>58</td>\n",
       "      <td>No</td>\n",
       "    </tr>\n",
       "    <tr>\n",
       "      <th>299</th>\n",
       "      <td>300</td>\n",
       "      <td>65</td>\n",
       "      <td>Male</td>\n",
       "      <td>Asthma</td>\n",
       "      <td>8</td>\n",
       "      <td>Imaging</td>\n",
       "      <td>Endocrinology</td>\n",
       "      <td>14358</td>\n",
       "      <td>90</td>\n",
       "      <td>No</td>\n",
       "    </tr>\n",
       "  </tbody>\n",
       "</table>\n",
       "<p>300 rows × 10 columns</p>\n",
       "</div>"
      ],
      "text/plain": [
       "     Patient_ID  Age  Gender      Diagnosis  Length_of_Stay   Procedure  \\\n",
       "0             1   69    Male         Cancer               9     Imaging   \n",
       "1             2   32    Male  Heart Disease              13  Medication   \n",
       "2             3   89  Female         Cancer               2     Imaging   \n",
       "3             4   78    Male   Hypertension               4  Medication   \n",
       "4             5   38  Female         Cancer               6     Surgery   \n",
       "..          ...  ...     ...            ...             ...         ...   \n",
       "295         296   34    Male  Heart Disease               1     Therapy   \n",
       "296         297   50  Female   Hypertension               6     Surgery   \n",
       "297         298   26    Male  Heart Disease               7     Surgery   \n",
       "298         299   60  Female       Diabetes               3     Therapy   \n",
       "299         300   65    Male         Asthma               8     Imaging   \n",
       "\n",
       "        Department  Total_Bill  Insurance_Coverage (%) Readmitted (Yes/No)  \n",
       "0          General       16368                      70                  No  \n",
       "1    Endocrinology      122360                      67                  No  \n",
       "2         Oncology      122755                      52                 Yes  \n",
       "3         Oncology       66985                      91                  No  \n",
       "4      Pulmonology       60069                      88                 Yes  \n",
       "..             ...         ...                     ...                 ...  \n",
       "295  Endocrinology       67993                      98                  No  \n",
       "296  Endocrinology       17421                      90                 Yes  \n",
       "297    Pulmonology       27727                      66                  No  \n",
       "298     Cardiology      122418                      58                  No  \n",
       "299  Endocrinology       14358                      90                  No  \n",
       "\n",
       "[300 rows x 10 columns]"
      ]
     },
     "execution_count": 10,
     "metadata": {},
     "output_type": "execute_result"
    }
   ],
   "source": [
    "df = pd.read_csv(\"hospital_patient_data.csv\")\n",
    "df"
   ]
  },
  {
   "cell_type": "markdown",
   "id": "ff8fabde",
   "metadata": {},
   "source": [
    " 1. What is the average length of stay by department?"
   ]
  },
  {
   "cell_type": "markdown",
   "id": "44233b8d",
   "metadata": {},
   "source": [
    "## 📌 2. Most Common Procedures in Each Department"
   ]
  },
  {
   "cell_type": "code",
   "execution_count": 11,
   "id": "c68fb9fe",
   "metadata": {},
   "outputs": [
    {
     "data": {
      "application/vnd.microsoft.datawrangler.viewer.v0+json": {
       "columns": [
        {
         "name": "Department",
         "rawType": "object",
         "type": "string"
        },
        {
         "name": "Length_of_Stay",
         "rawType": "float64",
         "type": "float"
        }
       ],
       "ref": "aa56b8c9-1050-443d-b60e-8960747fc742",
       "rows": [
        [
         "Cardiology",
         "6.741935483870968"
        ],
        [
         "Oncology",
         "7.114754098360656"
        ],
        [
         "Pulmonology",
         "7.431034482758621"
        ],
        [
         "Endocrinology",
         "7.518518518518518"
        ],
        [
         "General",
         "8.169230769230769"
        ]
       ],
       "shape": {
        "columns": 1,
        "rows": 5
       }
      },
      "text/plain": [
       "Department\n",
       "Cardiology       6.741935\n",
       "Oncology         7.114754\n",
       "Pulmonology      7.431034\n",
       "Endocrinology    7.518519\n",
       "General          8.169231\n",
       "Name: Length_of_Stay, dtype: float64"
      ]
     },
     "execution_count": 11,
     "metadata": {},
     "output_type": "execute_result"
    }
   ],
   "source": [
    "ave_len_stay_by_dept = df.groupby(\"Department\")[\"Length_of_Stay\"].mean().sort_values(ascending=True)\n",
    "ave_len_stay_by_dept"
   ]
  },
  {
   "cell_type": "code",
   "execution_count": 17,
   "id": "b9f1fcba",
   "metadata": {},
   "outputs": [
    {
     "data": {
      "image/png": "[encoded data removed]",
      "text/plain": [
       "<Figure size 800x500 with 1 Axes>"
      ]
     },
     "metadata": {},
     "output_type": "display_data"
    }
   ],
   "source": [
    "ave_len_stay_by_dept.plot(kind=\"barh\",color='skyblue', figsize=(8,5))\n",
    "plt.xlabel(\"Average Length of Stay (Days)\")\n",
    "plt.title(\"Average Length of Stay by Department\")\n",
    "plt.tight_layout()"
   ]
  },
  {
   "cell_type": "markdown",
   "id": "7db604b7",
   "metadata": {},
   "source": [
    "## 📌 3. Distribution of Patients by Diagnosis"
   ]
  },
  {
   "cell_type": "markdown",
   "id": "f2f11372",
   "metadata": {},
   "source": [
    " Insight: Patients tend to stay the longest in the General department and shortest in Cardiology."
   ]
  },
  {
   "cell_type": "markdown",
   "id": "a4fffce8",
   "metadata": {},
   "source": [
    "Which procedures are most common in each department?"
   ]
  },
  {
   "cell_type": "code",
   "execution_count": 33,
   "id": "c2263948",
   "metadata": {},
   "outputs": [
    {
     "data": {
      "application/vnd.microsoft.datawrangler.viewer.v0+json": {
       "columns": [
        {
         "name": "Department",
         "rawType": "object",
         "type": "string"
        },
        {
         "name": "Procedure",
         "rawType": "object",
         "type": "string"
        }
       ],
       "ref": "b0ef0036-a67d-48d3-b92b-e88116b74cf4",
       "rows": [
        [
         "Cardiology",
         "Therapy"
        ],
        [
         "Endocrinology",
         "Medication"
        ],
        [
         "General",
         "Surgery"
        ],
        [
         "Oncology",
         "Imaging"
        ],
        [
         "Pulmonology",
         "Medication"
        ]
       ],
       "shape": {
        "columns": 1,
        "rows": 5
       }
      },
      "text/plain": [
       "Department\n",
       "Cardiology          Therapy\n",
       "Endocrinology    Medication\n",
       "General             Surgery\n",
       "Oncology            Imaging\n",
       "Pulmonology      Medication\n",
       "Name: Procedure, dtype: object"
      ]
     },
     "execution_count": 33,
     "metadata": {},
     "output_type": "execute_result"
    }
   ],
   "source": [
    "com_proc_dept = df.groupby(\"Department\")[\"Procedure\"].agg(lambda x:x.mode().iloc[0] if not x.mode().empty else \"N/A\")\n",
    "com_proc_dept"
   ]
  },
  {
   "cell_type": "markdown",
   "id": "b8722745",
   "metadata": {},
   "source": [
    "Insight: Each department has a dominant procedure type, reflecting their specialization.\n",
    "\n"
   ]
  },
  {
   "cell_type": "markdown",
   "id": "6d8af82a",
   "metadata": {},
   "source": [
    "What is the distribution of patients by diagnosis?"
   ]
  },
  {
   "cell_type": "code",
   "execution_count": 40,
   "id": "2cff9eca",
   "metadata": {},
   "outputs": [
    {
     "data": {
      "application/vnd.microsoft.datawrangler.viewer.v0+json": {
       "columns": [
        {
         "name": "index",
         "rawType": "object",
         "type": "string"
        },
        {
         "name": "Diagnosis",
         "rawType": "int64",
         "type": "integer"
        }
       ],
       "ref": "3f3e6c9f-0c65-4fe0-8c1e-394db9ce5d54",
       "rows": [
        [
         "Cancer",
         "70"
        ],
        [
         "Diabetes",
         "63"
        ],
        [
         "Hypertension",
         "62"
        ],
        [
         "Asthma",
         "54"
        ],
        [
         "Heart Disease",
         "51"
        ]
       ],
       "shape": {
        "columns": 1,
        "rows": 5
       }
      },
      "text/plain": [
       "Cancer           70\n",
       "Diabetes         63\n",
       "Hypertension     62\n",
       "Asthma           54\n",
       "Heart Disease    51\n",
       "Name: Diagnosis, dtype: int64"
      ]
     },
     "execution_count": 40,
     "metadata": {},
     "output_type": "execute_result"
    }
   ],
   "source": [
    "\n",
    "# Count of patients by diagnosis\n",
    "diagnosis_counts = df['Diagnosis'].value_counts()\n",
    "diagnosis_counts"
   ]
  },
  {
   "cell_type": "code",
   "execution_count": 49,
   "id": "bf60f591",
   "metadata": {},
   "outputs": [
    {
     "data": {
      "text/plain": [
       "Text(0.5, 0, 'Number Of Patients')"
      ]
     },
     "execution_count": 49,
     "metadata": {},
     "output_type": "execute_result"
    },
    {
     "data": {
      "image/png": "[encoded data removed]",
      "text/plain": [
       "<Figure size 1000x600 with 1 Axes>"
      ]
     },
     "metadata": {},
     "output_type": "display_data"
    }
   ],
   "source": [
    "plt.figure(figsize=(10,6))\n",
    "sns.countplot(data=df,  y=\"Diagnosis\", hue='Diagnosis', order=diagnosis_counts.index, palette=\"viridis\")\n",
    "plt.title(\"Distribution of Patients by Diagnosis\")\n",
    "plt.xlabel(\"Number Of Patients\")"
   ]
  },
  {
   "cell_type": "markdown",
   "id": "e5d631f2",
   "metadata": {},
   "source": [
    "Insight: Cancer and diabetes are the most common diagnoses among patients in this dataset."
   ]
  },
  {
   "cell_type": "markdown",
   "id": "e197ccc6",
   "metadata": {},
   "source": [
    "Are older patients more likely to be readmitted?"
   ]
  },
  {
   "cell_type": "code",
   "execution_count": 58,
   "id": "b75250ac",
   "metadata": {},
   "outputs": [
    {
     "data": {
      "image/png": "[encoded data removed]",
      "text/plain": [
       "<Figure size 640x480 with 1 Axes>"
      ]
     },
     "metadata": {},
     "output_type": "display_data"
    }
   ],
   "source": [
    "sns.boxplot(data=df, x=\"Readmitted (Yes/No)\", hue=\"Readmitted (Yes/No)\", y=\"Age\",palette=\"Set2\", legend=False)\n",
    "plt.title('Age Distribution by Readmission Status')\n",
    "plt.xlabel('Readmitted')\n",
    "plt.ylabel('Age')\n",
    "plt.tight_layout()\n",
    "plt.show()"
   ]
  },
  {
   "cell_type": "markdown",
   "id": "7acef2b8",
   "metadata": {},
   "source": [
    " Insight: Yes, readmitted patients tend to be slightly older, suggesting age may influence readmission likelihood."
   ]
  },
  {
   "cell_type": "code",
   "execution_count": 60,
   "id": "bc06a5ce",
   "metadata": {},
   "outputs": [
    {
     "data": {
      "application/vnd.microsoft.datawrangler.viewer.v0+json": {
       "columns": [
        {
         "name": "Readmitted (Yes/No)",
         "rawType": "object",
         "type": "string"
        },
        {
         "name": "Age",
         "rawType": "float64",
         "type": "float"
        }
       ],
       "ref": "049dc445-1f1e-4461-bfc6-16e226779cb8",
       "rows": [
        [
         "No",
         "51.8390243902439"
        ],
        [
         "Yes",
         "55.705263157894734"
        ]
       ],
       "shape": {
        "columns": 1,
        "rows": 2
       }
      },
      "text/plain": [
       "Readmitted (Yes/No)\n",
       "No     51.839024\n",
       "Yes    55.705263\n",
       "Name: Age, dtype: float64"
      ]
     },
     "execution_count": 60,
     "metadata": {},
     "output_type": "execute_result"
    }
   ],
   "source": [
    "mean_age_by_readmission = df.groupby(\"Readmitted (Yes/No)\")[\"Age\"].mean()\n",
    "mean_age_by_readmission"
   ]
  },
  {
   "cell_type": "markdown",
   "id": "38f725c0",
   "metadata": {},
   "source": [
    "Does insurance coverage influence total bill amounts?"
   ]
  },
  {
   "cell_type": "code",
   "execution_count": 65,
   "id": "847f5323",
   "metadata": {},
   "outputs": [
    {
     "data": {
      "image/png": "[encoded data removed]",
      "text/plain": [
       "<Figure size 640x480 with 1 Axes>"
      ]
     },
     "metadata": {},
     "output_type": "display_data"
    }
   ],
   "source": [
    "sns.scatterplot(data=df, x=\"Insurance_Coverage (%)\", y=\"Total_Bill\", alpha=0.5)\n",
    "plt.title('Insurance Coverage vs Total Bill')\n",
    "plt.xlabel('Insurance Coverage (%)')\n",
    "plt.ylabel('Total Bill')\n",
    "plt.tight_layout()\n",
    "plt.show()"
   ]
  },
  {
   "cell_type": "code",
   "execution_count": 67,
   "id": "91bc24b2",
   "metadata": {},
   "outputs": [
    {
     "data": {
      "text/plain": [
       "0.09259570740893647"
      ]
     },
     "execution_count": 67,
     "metadata": {},
     "output_type": "execute_result"
    }
   ],
   "source": [
    "corr = df[\"Total_Bill\"].corr(df[\"Insurance_Coverage (%)\"])\n",
    "corr"
   ]
  },
  {
   "cell_type": "markdown",
   "id": "96ff0890",
   "metadata": {},
   "source": [
    "There is a very weak positive correlation, indicating that insurance coverage does not strongly influence total hospital bills."
   ]
  },
  {
   "cell_type": "code",
   "execution_count": 69,
   "id": "fff83d9d",
   "metadata": {},
   "outputs": [
    {
     "data": {
      "application/vnd.microsoft.datawrangler.viewer.v0+json": {
       "columns": [
        {
         "name": "Readmitted (Yes/No)",
         "rawType": "object",
         "type": "string"
        },
        {
         "name": "Length_of_Stay",
         "rawType": "float64",
         "type": "float"
        }
       ],
       "ref": "e472ba49-d7ea-4537-9669-f9342b58f2e4",
       "rows": [
        [
         "No",
         "7.2926829268292686"
        ],
        [
         "Yes",
         "7.631578947368421"
        ]
       ],
       "shape": {
        "columns": 1,
        "rows": 2
       }
      },
      "text/plain": [
       "Readmitted (Yes/No)\n",
       "No     7.292683\n",
       "Yes    7.631579\n",
       "Name: Length_of_Stay, dtype: float64"
      ]
     },
     "execution_count": 69,
     "metadata": {},
     "output_type": "execute_result"
    }
   ],
   "source": [
    "avg_stay_by_readmission = df.groupby(\"Readmitted (Yes/No)\")[\"Length_of_Stay\"].mean()\n",
    "avg_stay_by_readmission"
   ]
  },
  {
   "cell_type": "code",
   "execution_count": 72,
   "id": "536c2aae",
   "metadata": {},
   "outputs": [
    {
     "data": {
      "image/png": "[encoded data removed]",
      "text/plain": [
       "<Figure size 500x400 with 1 Axes>"
      ]
     },
     "metadata": {},
     "output_type": "display_data"
    }
   ],
   "source": [
    "avg_stay_by_readmission.plot(kind=\"bar\", color='orange', figsize=(5, 4))\n",
    "plt.title('Average Length of Stay by Readmission Status')\n",
    "plt.ylabel('Length of Stay (Days)')\n",
    "plt.xlabel('Readmitted')\n",
    "plt.tight_layout()\n",
    "plt.show()"
   ]
  },
  {
   "cell_type": "markdown",
   "id": "8c4ab4f3",
   "metadata": {},
   "source": [
    "Insight: Readmitted patients stayed slightly longer on average, suggesting extended stays could be a marker of complications.\n",
    "\n"
   ]
  },
  {
   "cell_type": "markdown",
   "id": "27344990",
   "metadata": {},
   "source": [
    "## ✅ Conclusion\n",
    "- Patients tend to stay longest in the **General** department.\n",
    "- Each department has a **dominant procedure**, indicating specialization.\n",
    "- Diagnosis distribution shows key areas of patient inflow.\n",
    "\n",
    "Further work can explore predictive modeling and dashboard creation using tools like Streamlit or Power BI."
   ]
  }
 ],
 "metadata": {
  "kernelspec": {
   "display_name": "Python 3",
   "language": "python",
   "name": "python3"
  },
  "language_info": {
   "codemirror_mode": {
    "name": "ipython",
    "version": 3
   },
   "file_extension": ".py",
   "mimetype": "text/x-python",
   "name": "python",
   "nbconvert_exporter": "python",
   "pygments_lexer": "ipython3",
   "version": "3.11.8"
  }
 },
 "nbformat": 4,
 "nbformat_minor": 5
}
